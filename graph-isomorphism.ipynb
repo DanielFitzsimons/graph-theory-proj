{
 "cells": [
  {
   "attachments": {},
   "cell_type": "markdown",
   "metadata": {},
   "source": [
    "<h1>Graph-theory-Project</h1>"
   ]
  },
  {
   "attachments": {},
   "cell_type": "markdown",
   "metadata": {},
   "source": [
    "<br>\n",
    "<h2>Introduction to Graph Theory</h2>"
   ]
  },
  {
   "attachments": {},
   "cell_type": "markdown",
   "metadata": {},
   "source": [
    "<p>So before I extend my indepth knowledge on the topic, I should begin with some basics.\n",
    "Graph Theory is a field of mathematics represented by graphs.</p>\n",
    "\n",
    "<p>The graph represents the realtionship between lines and points.\n",
    "<br>\n",
    "Each object within the graph is represented as node.\n",
    "<br>\n",
    "These graphs consist of two factors, edges and vertices.\n",
    "\n",
    "Edges: is each line in the graph. These lines connect each node within the graph.\n",
    "<br>\n",
    "Vetices: Vertex, represents the node on a graph or point.</p>\n",
    "\n",
    "\n"
   ]
  },
  {
   "attachments": {},
   "cell_type": "markdown",
   "metadata": {},
   "source": [
    "<p>The Below Diagram represents a graph with Vertices and 7 edges</p>\n",
    "\n",
    "<img src=\"graph1.png\" style=\"width:400px;height:400px\">"
   ]
  },
  {
   "attachments": {},
   "cell_type": "markdown",
   "metadata": {},
   "source": [
    "<h1>Graph Isomorphism Problem</h1>"
   ]
  },
  {
   "attachments": {},
   "cell_type": "markdown",
   "metadata": {},
   "source": [
    "<h2>What is it?</h2>\n"
   ]
  },
  {
   "attachments": {},
   "cell_type": "markdown",
   "metadata": {},
   "source": [
    "<p>A graph can exist in many different forms and look completely different. A representation of an Isomorphic graph is a two graphs that share the same number of edges, vertices and same edge connectivity, even if they look completely different to one another.</p>"
   ]
  },
  {
   "attachments": {},
   "cell_type": "markdown",
   "metadata": {},
   "source": [
    "<p>Isomorphism is graph in which an inverse of said graph exists. This helps descirbe equivalence between graphs.</p>\n"
   ]
  },
  {
   "attachments": {},
   "cell_type": "markdown",
   "metadata": {},
   "source": [
    "To elaborate on the above, if two vertices are connected by an edge, they are considered adjacent, in realtion to graph isomorphism, this means a bijection that preserves adjancency. Bijection maps from one to another and back again. This allows for one vertext in one graph to be mapped to another vertex in another graph, with this the adjancey cant be messed and allows us to keep the same edges."
   ]
  },
  {
   "attachments": {},
   "cell_type": "markdown",
   "metadata": {},
   "source": [
    "<h3>Example</h3>\n",
    "<img src=\"graph2.jfif\" style=\"width:400px;height:300px\">\n"
   ]
  },
  {
   "attachments": {},
   "cell_type": "markdown",
   "metadata": {},
   "source": [
    "<h3>A represenation of Ismorphic Graph</h3>\n",
    "\n",
    "\n",
    "<img src=\"isomorphic.png\" style=\"width:200px;height:200px\">"
   ]
  },
  {
   "attachments": {},
   "cell_type": "markdown",
   "metadata": {},
   "source": [
    "<h2>Applications</h2>"
   ]
  },
  {
   "attachments": {},
   "cell_type": "markdown",
   "metadata": {},
   "source": [
    "<p>Protein Structure: Nodes can represent protein and edges represent their interations with these nodes. A proteins are represented by a networks.\n",
    "These are represented in subgraphs. This is carried out examining the food structure first (graph structure) then the protein graph structure and checks whether it is available in the food graph or not.</p>"
   ]
  },
  {
   "attachments": {},
   "cell_type": "markdown",
   "metadata": {},
   "source": [
    "<p>Chemical Structures: Nodes represent atoms and edges represent covalent bonds. Structured formulas show the chemical information. Molecule structures are studied by graph theory. Can be very tedious.</p>"
   ]
  },
  {
   "attachments": {},
   "cell_type": "markdown",
   "metadata": {},
   "source": [
    "<h2>Implementation</h2>"
   ]
  },
  {
   "attachments": {},
   "cell_type": "markdown",
   "metadata": {},
   "source": [
    "Any two graphs will be considered isomoprhic if :  \n",
    "   Both graphs have the same number of vertices\n",
    "\n",
    "    Both graphs have the same number of edges,\n",
    "\n",
    "    An equal amount of degree sequence in both graphs\n",
    "    \n",
    "    If the first graph is forming a cycle of length k with the help of vertices {v1, v2, v3, …. vk}, then another graph must also form the same cycle of the same length k with the help of vertices {v1, v2, v3, …. vk}."
   ]
  },
  {
   "cell_type": "code",
   "execution_count": 1,
   "metadata": {},
   "outputs": [],
   "source": [
    "# imports\n",
    "import networkx as nx\n",
    "import numpy as np\n",
    "import itertools \n",
    "\n",
    "# what the graph look like\n",
    "params = {'node_color': 'lightblue', 'node_size' : 700, 'font_size': 18, 'with_labels': True}\n",
    "\n",
    "#take the two adjacent matrices and check if their degree sequeces are equal.\n",
    "def degreeSeq(matrix):\n",
    "    \n",
    "    #array for result\n",
    "    s = []\n",
    "    \n",
    "    # Loop size of matrix.\n",
    "    for v in range(len(matrix)):\n",
    "        \n",
    "        s.append(sum(matrix[v]))\n",
    "        \n",
    "    #reverse sort the array and return it.\n",
    "    \n",
    "    s.sort(reverse=True)\n",
    "    \n",
    "    return s\n",
    "\n",
    "\n",
    "\n",
    "# Once Ensuring that the degree sequence is equal we see if the graph order of both graphs are equal or not\n",
    "# checks length of the matrix\n",
    "def order(matrix):\n",
    "    \n",
    "    # If not, returns -1 \n",
    "    if len(matrix) != len(matrix[0]):\n",
    "        \n",
    "        return -1\n",
    "    else:\n",
    "        \n",
    "        # return length\n",
    "        return len(matrix)\n",
    "    \n",
    "    # gets every permutations of the passed matrix.\n",
    "def permutations(matrix):\n",
    "    \n",
    "    #  array of permutations\n",
    "    m = []\n",
    "    \n",
    "    ar = list(range(len(matrix)))\n",
    "    \n",
    "    # every possible combinations.\n",
    "    possCombo = [\n",
    "        list(i) for i in itertools.permutations(ar, len(ar))\n",
    "    ]\n",
    "    \n",
    "    \n",
    "    # goes through all the combinations, exchange places and put in array.\n",
    "    for ar_c in possCombo:\n",
    "        \n",
    "        k = matrix\n",
    "        \n",
    "        k = k[ar_c]\n",
    "        \n",
    "        #Reverse or permute the axes of an array; returns the modified array.\n",
    "        k = np.transpose(np.transpose(k)[ar_c])\n",
    "        \n",
    "        # adds to array\n",
    "        m.append({\n",
    "            \n",
    "            \"perm_v\":\n",
    "            \n",
    "            ar_c,\n",
    "            \n",
    "            \"a_m\":\n",
    "            \n",
    "            k\n",
    "        })\n",
    "        \n",
    "    #return array\n",
    "    return m\n",
    "\n",
    "    # main function\n",
    "def checkIso(matrix1, matrix2):\n",
    "    \n",
    "    # gets degree sequnces\n",
    "    seq1 = degreeSeq(matrix1)\n",
    "    \n",
    "    seq2 = degreeSeq(matrix2)\n",
    "    \n",
    "    \n",
    "    # checks order function\n",
    "    if order(matrix1) != order(matrix2):\n",
    "        \n",
    "        # Not isomorphic\n",
    "        return False\n",
    "    \n",
    "   \n",
    "    elif np.array_equal(seq1, seq2) == False:\n",
    "        # Not isomorphic\n",
    "        return False\n",
    "    \n",
    "    # if the two above checks pass\n",
    "    else:\n",
    "        for a_m in list(\n",
    "            \n",
    "                map(lambda matrix: matrix[\"a_m\"],\n",
    "                    \n",
    "                    #permutations of the second matrix for comparison.\n",
    "                    \n",
    "                    permutations(matrix2))):\n",
    "            \n",
    "            if np.array_equal(matrix1, a_m) == True:\n",
    "                \n",
    "                # We have all match returns true\n",
    "                return True\n",
    "            \n",
    "    # else returns false\n",
    "    return False  \n",
    "\n",
    "\n",
    "# credit toni canada"
   ]
  },
  {
   "attachments": {},
   "cell_type": "markdown",
   "metadata": {},
   "source": [
    "Referencing the code above, This algorithm is considered not very efficient and is brute force code for isomorphism, this algorithm performs a series of checks before it compares if the graphs in question are considered isomoprhic by taking 2 adjacent matrices and will output true or false."
   ]
  },
  {
   "attachments": {},
   "cell_type": "markdown",
   "metadata": {},
   "source": [
    "<h3>Check if 2 graphs are Isomorphic</h3>"
   ]
  },
  {
   "cell_type": "code",
   "execution_count": 45,
   "metadata": {},
   "outputs": [
    {
     "data": {
      "image/png": "[encoded data removed]",
      "text/plain": [
       "<Figure size 640x480 with 1 Axes>"
      ]
     },
     "metadata": {},
     "output_type": "display_data"
    }
   ],
   "source": [
    "import networkx as nx\n",
    "import numpy as np\n",
    "\n",
    "params = {'node_color': 'lightblue', 'node_size' : 700, 'font_size': 18, 'with_labels': True}\n",
    "\n",
    "g1 = nx.Graph()\n",
    "\n",
    "g2 = nx.Graph()\n",
    "\n",
    "# creates the edges\n",
    "e1 = ((3, 2), (2,1), (1,4), (4,5), (5,6) ,(6,3))\n",
    "\n",
    "e2 = ((0, 4) , (1, 0) , (2, 5) , (3, 2), (4, 3), (5,1))\n",
    "\n",
    "# adds the edges.\n",
    "g1.add_edges_from(e1)\n",
    "\n",
    "g2.add_edges_from(e2)\n",
    "\n",
    "# draws graph 1\n",
    "nx.draw_circular(g1, **params)\n",
    "\n",
    "\n",
    "\n"
   ]
  },
  {
   "cell_type": "code",
   "execution_count": 46,
   "metadata": {},
   "outputs": [
    {
     "data": {
      "image/png": "[encoded data removed]",
      "text/plain": [
       "<Figure size 640x480 with 1 Axes>"
      ]
     },
     "metadata": {},
     "output_type": "display_data"
    }
   ],
   "source": [
    "nx.draw(g2, with_labels=1)"
   ]
  },
  {
   "cell_type": "code",
   "execution_count": 47,
   "metadata": {},
   "outputs": [
    {
     "data": {
      "text/plain": [
       "True"
      ]
     },
     "execution_count": 47,
     "metadata": {},
     "output_type": "execute_result"
    }
   ],
   "source": [
    "nx.is_isomorphic(g1,g2)"
   ]
  },
  {
   "attachments": {},
   "cell_type": "markdown",
   "metadata": {},
   "source": [
    "As stated true the test above, both grahps are isomorphic as the result is true."
   ]
  },
  {
   "attachments": {},
   "cell_type": "markdown",
   "metadata": {},
   "source": [
    "<h3>Checking if 2 graphs are NOT Isomoprhic</h3>"
   ]
  },
  {
   "cell_type": "code",
   "execution_count": 56,
   "metadata": {},
   "outputs": [],
   "source": [
    "g3 = nx.Graph()\n",
    "g4 = nx.Graph()\n",
    "\n",
    "e1 = ((0,2), (1,4), (3,0), (2,1), (3,0), (5,4))\n",
    "e2 = ((0,3), (1,0), (2,5), (4,2), (4,1), (5,1))\n",
    "\n",
    "g3.add_edges_from(e1)\n",
    "g4.add_edges_from(e2)"
   ]
  },
  {
   "cell_type": "code",
   "execution_count": 50,
   "metadata": {},
   "outputs": [
    {
     "data": {
      "image/png": "[encoded data removed]",
      "text/plain": [
       "<Figure size 640x480 with 1 Axes>"
      ]
     },
     "metadata": {},
     "output_type": "display_data"
    }
   ],
   "source": [
    "nx.draw_circular(g3, **params)"
   ]
  },
  {
   "cell_type": "code",
   "execution_count": 57,
   "metadata": {},
   "outputs": [
    {
     "data": {
      "image/png": "[encoded data removed]",
      "text/plain": [
       "<Figure size 640x480 with 1 Axes>"
      ]
     },
     "metadata": {},
     "output_type": "display_data"
    }
   ],
   "source": [
    "nx.draw_circular(g4, **params)"
   ]
  },
  {
   "cell_type": "code",
   "execution_count": 58,
   "metadata": {},
   "outputs": [
    {
     "data": {
      "text/plain": [
       "False"
      ]
     },
     "execution_count": 58,
     "metadata": {},
     "output_type": "execute_result"
    }
   ],
   "source": [
    "nx.is_isomorphic(g3,g4)"
   ]
  },
  {
   "attachments": {},
   "cell_type": "markdown",
   "metadata": {},
   "source": [
    "As stated false above, these two graphs are not isomorphic"
   ]
  },
  {
   "attachments": {},
   "cell_type": "markdown",
   "metadata": {},
   "source": [
    "<h2>P vs NP</h2>"
   ]
  },
  {
   "attachments": {},
   "cell_type": "markdown",
   "metadata": {},
   "source": [
    "<p>Considering the computational comlexity theory, which focuses on classifying computational probelms based on their resource usage and showing the realtion between thee classes. It is considered a task in which a computer solves.</p>"
   ]
  },
  {
   "attachments": {},
   "cell_type": "markdown",
   "metadata": {},
   "source": [
    "<p>So this brings me to complexity classes. Which is a set of resource based complexity. Time and Memory are considerecd the two most common resources analyzed. Two complexity classes i'll focus on are called P(polynomial time) and NP(nodeterministic ploynomial time). Graph Isomorphism is considerd an NP Problem.</p>"
   ]
  },
  {
   "attachments": {},
   "cell_type": "markdown",
   "metadata": {},
   "source": [
    "In relation to Graph Isomorphism Problem, it is not known to be solvable in polynomial time nor to be NP-complete and therefore is considered in the computational complexity class NP-intermediate."
   ]
  },
  {
   "attachments": {},
   "cell_type": "markdown",
   "metadata": {},
   "source": [
    "Considering NP-intermediate problem after its mention above, it is seen as a decision problem that that is in NP. This means answers can be done in polynomial time but also means it is not in P and there is no polynomial-time algorithm for solving the problem. It also isnt considered to be NP-complete,"
   ]
  },
  {
   "attachments": {},
   "cell_type": "markdown",
   "metadata": {},
   "source": [
    "One of the biggest interests in the computers and mathematics sector is P versus NP."
   ]
  },
  {
   "attachments": {},
   "cell_type": "markdown",
   "metadata": {},
   "source": [
    "When it comes to explaining it, people ask, can every problem whose answer can be checked quickly by a computer, also be quickly solved by a computer?"
   ]
  },
  {
   "attachments": {},
   "cell_type": "markdown",
   "metadata": {},
   "source": [
    "Math problems are referred to as P or NP, even if they are solvable in finite polynomial time. P prblems have their solution time bound to a polynomial and are relatively fast for computers to solve, which makes them 'easy'. NP are fast for computers to check, but arent easy to solve. "
   ]
  },
  {
   "attachments": {},
   "cell_type": "markdown",
   "metadata": {},
   "source": [
    "This problem is a considered a millenium problem which is 7 big unanswered math problems."
   ]
  },
  {
   "attachments": {},
   "cell_type": "markdown",
   "metadata": {},
   "source": [
    "<img src=\"pvsnp.jpg\" style=\"width:400px;height:300px\">"
   ]
  },
  {
   "attachments": {},
   "cell_type": "markdown",
   "metadata": {},
   "source": [
    "<h1>How graphs are represented in data structures</h2>"
   ]
  },
  {
   "attachments": {},
   "cell_type": "markdown",
   "metadata": {},
   "source": [
    "Graphs can be represented in 2 data structures: \n",
    "\n",
    "An adjacency list\n",
    "\n",
    "An adjacency matrix"
   ]
  },
  {
   "attachments": {},
   "cell_type": "markdown",
   "metadata": {},
   "source": [
    "<h2>Adjacency List</h2>"
   ]
  },
  {
   "attachments": {},
   "cell_type": "markdown",
   "metadata": {},
   "source": [
    "Speaking on the topic of adjacency lists, every vertex is represented as a node object. The may contain data or reference a linked list. This linked list provides a list of all nodes that are adjacent to the current node.  "
   ]
  },
  {
   "attachments": {},
   "cell_type": "markdown",
   "metadata": {},
   "source": [
    "An example would be a graph containing an edge connecting node A and node B. Then node a will be available to node B's linked list.See below and example of an undirected graph.\n",
    "\n",
    "<img src=\"undirected-list.png\" style=\"width:400px;height:300px\">\n"
   ]
  },
  {
   "attachments": {},
   "cell_type": "markdown",
   "metadata": {},
   "source": [
    "This can enable faster search proccesses against adjacency matrices. However it is not the brest representation of graphs espcially when it comes to adding or removing nodes. deleteing nodes involves a search through the adjacency lists to remove a particular node."
   ]
  },
  {
   "cell_type": "code",
   "execution_count": 5,
   "metadata": {},
   "outputs": [
    {
     "name": "stdout",
     "output_type": "stream",
     "text": [
      "Vertex 0: [1, 2]\n",
      "Vertex 1: [0, 2]\n",
      "Vertex 2: [0, 1, 3]\n",
      "Vertex 3: [2]\n"
     ]
    }
   ],
   "source": [
    "import networkx as nx\n",
    "import matplotlib as plt\n",
    "\n",
    "# Define the number of vertices in the graph\n",
    "num_vertices = 4\n",
    "\n",
    "# Create an empty adjacency list\n",
    "adj_list = [[] for _ in range(num_vertices)]\n",
    "\n",
    "# Define the edges of the graph\n",
    "edges = [(0, 1), (0, 2), (1, 2), (2, 3)]\n",
    "\n",
    "# Populate the adjacency list with the edges\n",
    "for edge in edges:\n",
    "    vertex1, vertex2 = edge\n",
    "    adj_list[vertex1].append(vertex2)\n",
    "    adj_list[vertex2].append(vertex1)\n",
    "\n",
    "# Print the adjacency list\n",
    "for i, neighbors in enumerate(adj_list):\n",
    "    print(f\"Vertex {i}: {neighbors}\")"
   ]
  },
  {
   "attachments": {},
   "cell_type": "markdown",
   "metadata": {},
   "source": [
    "<h2>Adjacency Matrix</h2>\n"
   ]
  },
  {
   "attachments": {},
   "cell_type": "markdown",
   "metadata": {},
   "source": [
    "In relation to Adjacency matrices, we can consider them as a table of rows and columns. Rows and columns represent the nodes of a graph. This is a sqaure matrix where the number of rows, columns and nodes are the same. Each cell represents the edge or relationship between two nodes."
   ]
  },
  {
   "attachments": {},
   "cell_type": "markdown",
   "metadata": {},
   "source": [
    "<h3>Example</h3>\n",
    "<img src=\"undirected-graph.png\" style=\"width:400px;height:300px\">"
   ]
  },
  {
   "attachments": {},
   "cell_type": "markdown",
   "metadata": {},
   "source": [
    "In the above example is shows A is connected to B, but B is also connected to A as well. Hence both cells."
   ]
  },
  {
   "cell_type": "code",
   "execution_count": 4,
   "metadata": {},
   "outputs": [
    {
     "name": "stdout",
     "output_type": "stream",
     "text": [
      "[0, 1, 1, 0]\n",
      "[1, 0, 1, 0]\n",
      "[1, 1, 0, 1]\n",
      "[0, 0, 1, 0]\n"
     ]
    }
   ],
   "source": [
    "import networkx as nx\n",
    "import matplotlib as plt\n",
    "\n",
    "num_vertices = 4\n",
    "\n",
    "# Create an empty adjacency matrix\n",
    "adj_matrix = [[0 for _ in range(num_vertices)] for _ in range(num_vertices)]\n",
    "\n",
    "# Define the edges of the graph\n",
    "edges = [(0, 1), (0, 2), (1, 2), (2, 3)]\n",
    "\n",
    "# Populate the adjacency matrix with the edges\n",
    "for edge in edges:\n",
    "    vertex1, vertex2 = edge\n",
    "    adj_matrix[vertex1][vertex2] = 1\n",
    "    adj_matrix[vertex2][vertex1] = 1\n",
    "\n",
    "# Print the adjacency matrix\n",
    "for row in adj_matrix:\n",
    "    print(row)"
   ]
  },
  {
   "attachments": {},
   "cell_type": "markdown",
   "metadata": {},
   "source": [
    "<h2>References</h2>\n",
    "\n",
    "http://www.dharwadker.org/tevet/isomorphism/\n",
    "\n",
    "https://www.youtube.com/watch?v=EwV4Puk2coU\n",
    "\n",
    "\n",
    "https://en.wikipedia.org/wiki/\n",
    "\n",
    "Graph_theory#:~:text=In%20mathematics%2C%20graph%20theory%20is,also%20called%20links%20or%20lines\n",
    "\n",
    "https://en.wikipedia.org/wiki/Graph_isomorphism_problem\n",
    "\n",
    "https://cacm.acm.org/magazines/2020/11/248220-the-graph-isomorphism-problem/abstract\n",
    "\n",
    "https://simple.wikipedia.org/wiki/P_versus_NP_problem\n",
    "\n",
    "https://en.wikipedia.org/wiki/Complexity_class\n",
    "\n",
    "https://en.wikipedia.org/wiki/Computational_complexity_theory\n",
    "\n",
    "https://en.wikipedia.org/wiki/Graph_isomorphism_problem\n",
    "\n",
    "https://stackoverflow.com/questions/40773886/what-are-np-intermediate-problems/40773945#40773945\n",
    "\n",
    "https://www.javatpoint.com/graph-isomorphism-in-discrete-mathematics#:~:text=The%20isomorphism%20graph%20can%20be,are%20known%20as%20isomorphism%20graphs\n",
    "https://tonicanada.medium.com/brute-force-code-for-isomorphisms-1241ef180570\n",
    "https://www.mygreatlearning.com/blog/representing-graphs-in-data-structures/#:~:text=A%20graph%20can%20be%20represented,the%20nodes%20of%20a%20graph.\n",
    "\n",
    "https://www.mygreatlearning.com/blog/representing-graphs-in-data-structures/#:~:text=A%20graph%20can%20be%20represented,the%20nodes%20of%20a%20graph."
   ]
  }
 ],
 "metadata": {
  "kernelspec": {
   "display_name": "Python 3",
   "language": "python",
   "name": "python3"
  },
  "language_info": {
   "codemirror_mode": {
    "name": "ipython",
    "version": 3
   },
   "file_extension": ".py",
   "mimetype": "text/x-python",
   "name": "python",
   "nbconvert_exporter": "python",
   "pygments_lexer": "ipython3",
   "version": "3.10.2"
  },
  "orig_nbformat": 4
 },
 "nbformat": 4,
 "nbformat_minor": 2
}
