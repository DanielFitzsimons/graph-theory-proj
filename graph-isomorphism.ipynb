{
 "cells": [
  {
   "attachments": {},
   "cell_type": "markdown",
   "metadata": {},
   "source": [
    "<h1>Graph-theory-Project</h1>"
   ]
  },
  {
   "attachments": {},
   "cell_type": "markdown",
   "metadata": {},
   "source": [
    "<br>\n",
    "<h2>Introduction to Graph Theory</h2>"
   ]
  },
  {
   "attachments": {},
   "cell_type": "markdown",
   "metadata": {},
   "source": [
    "<h3>So before I extend the my indepth knowledge on the topic, I should begin with some basics.\n",
    "Graph Theory is a field of mathematics represented by graphs.</h3>\n",
    "\n",
    "<p>The graph represents the realtionship between lines and points.\n",
    "<br>\n",
    "Each object within the graph is represented as node.\n",
    "<br>\n",
    "These graphs consist of two factors, edges and vertices.\n",
    "\n",
    "Edges: is each line in the graph. These lines connect each node within the graph.\n",
    "<br>\n",
    "Vetices: Vertex, represents the node on a graph or point.</p>\n",
    "\n",
    "\n"
   ]
  },
  {
   "attachments": {},
   "cell_type": "markdown",
   "metadata": {},
   "source": [
    "<p>The Below Diagram represents a graph with Vertices and 7 edges</p>\n",
    "\n",
    "<img src=\"graph1.png\" style=\"width:400px;height:400px\">"
   ]
  },
  {
   "attachments": {},
   "cell_type": "markdown",
   "metadata": {},
   "source": [
    "<h1>Graph Isomorphism Problem</h1>"
   ]
  },
  {
   "attachments": {},
   "cell_type": "markdown",
   "metadata": {},
   "source": [
    "<p>A graph can exist in many different forms and look completely different. A representation of an Isomorphic graph is a two graphs that share the same number of edges, vertices and same edge connectivity, even if they look completely different to one another.</p>"
   ]
  },
  {
   "attachments": {},
   "cell_type": "markdown",
   "metadata": {},
   "source": [
    "<h3>A represenation of Ismorphic Graph</h3>\n",
    "\n",
    "<img src=\"isomorphic.png\" style=\"width:200px;height:200px\">"
   ]
  }
 ],
 "metadata": {
  "kernelspec": {
   "display_name": "Python 3",
   "language": "python",
   "name": "python3"
  },
  "language_info": {
   "codemirror_mode": {
    "name": "ipython",
    "version": 3
   },
   "file_extension": ".py",
   "mimetype": "text/x-python",
   "name": "python",
   "nbconvert_exporter": "python",
   "pygments_lexer": "ipython3",
   "version": "3.10.2"
  },
  "orig_nbformat": 4
 },
 "nbformat": 4,
 "nbformat_minor": 2
}
